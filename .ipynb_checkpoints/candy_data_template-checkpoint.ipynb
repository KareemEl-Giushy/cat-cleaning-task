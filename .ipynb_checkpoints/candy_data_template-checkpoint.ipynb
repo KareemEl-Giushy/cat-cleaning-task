{
 "cells": [
  {
   "cell_type": "markdown",
   "metadata": {},
   "source": [
    "# Project: cleanning - [candy data]\n",
    "### this notebook is for educational purpose . in this notebook we will do some cleanning\n",
    "\n",
    "## Table of Contents\n",
    "<ul>\n",
    "<li><a href=\"#intro\">Introduction</a></li>\n",
    "<li><a href=\"#wrangling\">wrangling</a></li>\n",
    "  \n",
    "</ul>"
   ]
  },
  {
   "cell_type": "markdown",
   "metadata": {},
   "source": [
    "<a id='intro'></a>\n",
    "## Introduction\n",
    "\n",
    "### Dataset Description \n",
    "\n",
    "> i will go through candy data 2017 , this data has :\n",
    "- Internal_ID\n",
    "- Q1-Going Out?: Are you actually going trick or treating yourself? \"has values `Yes or No`\"\n",
    "- Q2-Gender: It has four different options, `Femal ,Male ,Other ,I'd rather not say`\n",
    "- Q3-Age: Numerical field\n",
    "- Q4-Country: Text Field, but users have written their own version of the names. Example, for America, there are entries such as USA, us, US, America so we should consider that while cleanning\n",
    "- Q5-State/Province: Text Field, but users have written their own version of the names. Same as the country data.\n",
    "- Q6-Joy Or Despair: All kinds of chocolate bars are the questions with three distinct options to choose from (Joy, Meh, Despair).\n",
    "- Q7-Joy Other: Text Field to write items not included above that give you JOY. Lots of missing values.\n",
    "- Q8-Despair Other: Text Field ti write items not included above that give you DESPAIR. Lots of missing values.\n",
    "- Q9-Other Comments: Text Field. Lots of missing values.\n",
    "- Q10-Dress: Binary field. Missing values present\n",
    "- Unnamed: 113\n",
    "- Q11-Day: Binary Answer Field. Missing values present\n"
   ]
  },
  {
   "cell_type": "markdown",
   "metadata": {},
   "source": [
    "# 1- import packages and load data"
   ]
  },
  {
   "cell_type": "code",
   "execution_count": 1,
   "metadata": {},
   "outputs": [],
   "source": [
    "import numpy as np\n",
    "import pandas as pd\n",
    "import matplotlib.pyplot as plt\n",
    "\n",
    "pd.set_option('display.max_columns', None)\n",
    "\n",
    "df = pd.read_csv('candyhierarchy2017.csv')"
   ]
  },
  {
   "cell_type": "markdown",
   "metadata": {},
   "source": [
    "<a id='wrangling'></a>\n",
    "## Data Wrangling\n",
    "\n",
    "\n",
    "\n",
    "### General Properties"
   ]
  },
  {
   "cell_type": "code",
   "execution_count": 2,
   "metadata": {},
   "outputs": [],
   "source": [
    "# make data usable\n",
    "df.rename(columns= {\n",
    "    \"Internal ID\":'inid',\n",
    "    \"Q1: GOING OUT?\": 'going_out',\n",
    "    \"Q2: GENDER\": 'gender',\n",
    "    \"Q3: AGE\": 'age',\n",
    "    \"Q4: COUNTRY\": 'country',\n",
    "    \"Q5: STATE, PROVINCE, COUNTY, ETC\": 'state',\n",
    "    \"Q6 | 100 Grand Bar\": 'grand_bar',\n",
    "    \"Q6 | Anonymous brown globs that come in black and orange wrappers\\t(a.k.a. Mary Janes)\": 'mary_janes',\n",
    "    \"Q6 | Any full-sized candy bar\": 'full_candy_bar',\n",
    "    \"Q6 | Black Jacks\": 'black_jacks',\n",
    "    \"Q6 | Bonkers (the candy)\": 'bonkers_candy',\n",
    "    \"Q6 | Bonkers (the board game)\": 'bonkers_game',\n",
    "    \"Q6 | Bottle Caps\": 'bottle_caps',\n",
    "    \"Q6 | Box'o'Raisins\": 'box_o_raisins',\n",
    "    \"Q6 | Broken glow stick\": 'broken_glow_stick',\n",
    "    \"Q6 | Butterfinger\": 'butterfinger',\n",
    "    \"Q6 | Cadbury Creme Eggs\": 'cadbury_creme_eggs',\n",
    "    \"Q6 | Candy Corn\": 'candy_corn',\n",
    "    \"Q6 | Candy that is clearly just the stuff given out for free at restaurants\": 'free_candy',\n",
    "    \"Q6 | Caramellos\": 'caramellos',\n",
    "    \"Q6 | Cash, or other forms of legal tender\": 'legal_tender_cash',\n",
    "    \"Q6 | Chardonnay\": 'chardonnay',\n",
    "    \"Q6 | Chick-o-Sticks (we don’t know what that is)\": 'chick_o_sticks',\n",
    "    \"Q6 | Chiclets\": 'chiclets',\n",
    "    \"Q6 | Coffee Crisp\": 'coffee_crisp',\n",
    "    \"Q6 | Creepy Religious comics/Chick Tracts\": 'creepy_tracts',\n",
    "    \"Q6 | Dental paraphenalia\": 'dental_paraphenalia',\n",
    "    \"Q6 | Dots\": 'dots',\n",
    "    \"Q6 | Dove Bars\": 'dove_bars',\n",
    "    \"Q6 | Fuzzy Peaches\": 'fuzzy_peaches',\n",
    "    \"Q6 | Generic Brand Acetaminophen\": 'acetaminophen',\n",
    "    \"Q6 | Glow sticks\": 'glow_sticks',\n",
    "    \"Q6 | Goo Goo Clusters\": 'goo_goo_clusters',\n",
    "    \"Q6 | Good N' Plenty\": 'good_plenty',\n",
    "    \"Q6 | Gum from baseball cards\": 'baseball_cards_gum',\n",
    "    \"Q6 | Gummy Bears straight up\": 'gummy_bears',\n",
    "    \"Q6 | Hard Candy\": 'hard_candy',\n",
    "    \"Q6 | Healthy Fruit\": 'healthy_fruit',\n",
    "    \"Q6 | Heath Bar\": 'health_bar',\n",
    "    \"Q6 | Hershey's Dark Chocolate\": 'hershey_dark_chocolate',\n",
    "    \"Q6 | Hershey’s Milk Chocolate\": 'hershey_milk_chocolate',\n",
    "    \"Q6 | Hershey's Kisses\": 'hershey_kisses',\n",
    "    \"Q6 | Hugs (actual physical hugs)\": 'hugs',\n",
    "    \"Q6 | Jolly Rancher (bad flavor)\": 'jolly_rancher_bad',\n",
    "    \"Q6 | Jolly Ranchers (good flavor)\": 'jolly_rancher_good',\n",
    "    \"Q6 | JoyJoy (Mit Iodine!)\": 'joy_joy',\n",
    "    \"Q6 | Junior Mints\": 'joniour_mints',\n",
    "    \"Q6 | Senior Mints\": 'senior_mints',\n",
    "    \"Q6 | Kale smoothie\": 'kale_smoothie',\n",
    "    \"Q6 | Kinder Happy Hippo\": 'kinder_happy_hippo',\n",
    "    \"Q6 | Kit Kat\": 'kit_kat',\n",
    "    \"Q6 | LaffyTaffy\": 'laffy_taffy',\n",
    "    \"Q6 | LemonHeads\": 'lemon_heads',\n",
    "    \"Q6 | Licorice (yes black)\": 'licorice_black',\n",
    "    \"Q6 | Licorice (not black)\": 'licorice_nblack',\n",
    "    \"Q6 | Lindt Truffle\": 'lindt_truffle',\n",
    "    \"Q6 | Lollipops\": 'lollipops',\n",
    "    \"Q6 | Mars\": 'mars',\n",
    "    \"Q6 | Maynards\": 'maynards',\n",
    "    \"Q6 | Mike and Ike\": 'mike_and_ike',\n",
    "    \"Q6 | Milk Duds\": 'milk_duds',\n",
    "    \"Q6 | Milky Way\": 'milky_way',\n",
    "    \"Q6 | Regular M&Ms\": 'regular_mm',\n",
    "    \"Q6 | Peanut M&M’s\": 'peanut_mm',\n",
    "    \"Q6 | Blue M&M's\": 'blue_mm',\n",
    "    \"Q6 | Red M&M's\": 'red_mm',\n",
    "    \"Q6 | Green Party M&M's\": 'green_party_mm',\n",
    "    \"Q6 | Independent M&M's\": 'independent_mm',\n",
    "    \"Q6 | Abstained from M&M'ing.\": 'no_mm',\n",
    "    \"Q6 | Minibags of chips\": 'minibags_chips',\n",
    "    \"Q6 | Mint Kisses\": 'mint_kisses',\n",
    "    \"Q6 | Mint Juleps\": 'mint_juleps',\n",
    "    \"Q6 | Mr. Goodbar\": 'mr_goodbar',\n",
    "    \"Q6 | Necco Wafers\": 'necco_wafers',\n",
    "    \"Q6 | Nerds\": 'nerds',\n",
    "    \"Q6 | Nestle Crunch\": 'nestle_crunch',\n",
    "    \"Q6 | Now'n'Laters\": 'now_n_laters',\n",
    "    \"Q6 | Peeps\": 'peeps',\n",
    "    \"Q6 | Pencils\": 'pencils',\n",
    "    \"Q6 | Pixy Stix\": 'pixy_stix',\n",
    "    \"Q6 | Real Housewives of Orange County Season 9 Blue-Ray\": 'rhoocs_blueray',\n",
    "    \"Q6 | Reese’s Peanut Butter Cups\": 'reese_peanut_butter_cup',\n",
    "    \"Q6 | Reese's Pieces\": 'reese_pieces',\n",
    "    \"Q6 | Reggie Jackson Bar\": 'reggie_jackson_bar',\n",
    "    \"Q6 | Rolos\": 'rolos',\n",
    "    \"Q6 | Sandwich-sized bags filled with BooBerry Crunch\": 'booberry_crunch',\n",
    "    \"Q6 | Skittles\": 'skittles',\n",
    "    \"Q6 | Smarties (American)\": 'american_smarties',\n",
    "    \"Q6 | Smarties (Commonwealth)\": 'commonwelth_smarties',\n",
    "    \"Q6 | Snickers\": 'snickers',\n",
    "    \"Q6 | Sourpatch Kids (i.e. abominations of nature)\": 'sourpatch_kids',\n",
    "    \"Q6 | Spotted Dick\": 'spotted_dick',\n",
    "    \"Q6 | Starburst\": 'starburst',\n",
    "    \"Q6 | Sweet Tarts\": 'sweet_tarts',\n",
    "    \"Q6 | Swedish Fish\": 'swedish_fish',\n",
    "    \"Q6 | Sweetums (a friend to diabetes)\": 'sweetums',\n",
    "    \"Q6 | Take 5\": 'take5',\n",
    "    \"Q6 | Tic Tacs\": 'tic_tacs',\n",
    "    \"Q6 | Those odd marshmallow circus peanut things\": 'marshmallow_circus_peanut',\n",
    "    \"Q6 | Three Musketeers\": 'three_musketeers',\n",
    "    \"Q6 | Tolberone something or other\": 'tolberone_other',\n",
    "    \"Q6 | Trail Mix\": 'trail_mix',\n",
    "    \"Q6 | Twix\": 'twix',\n",
    "    \"Q6 | Vials of pure high fructose corn syrup, for main-lining into your vein\": 'fructose_corn_syrup',\n",
    "    \"Q6 | Vicodin\": 'vicodin',\n",
    "    \"Q6 | Whatchamacallit Bars\": 'watchamacallit_bars',\n",
    "    \"Q6 | White Bread\": 'white_bread',\n",
    "    \"Q6 | Whole Wheat anything\": 'whole_wheat_anything',\n",
    "    \"Q6 | York Peppermint Patties\": 'york_peppermint_patties',\n",
    "    \"Q7: JOY OTHER\": 'other_joy',\n",
    "    \"Q8: DESPAIR OTHER\": 'other_despair',\n",
    "    \"Q9: OTHER COMMENTS\": 'other_commemts',\n",
    "    \"Q10: DRESS\": \"dress\",\n",
    "    \"Q11: DAY\": 'day_prefer',\n",
    "    \"Q12: MEDIA [Daily Dish]\": \"media_dailydish\",\n",
    "    \"Q12: MEDIA [Science]\": \"media_science\",\n",
    "    \"Q12: MEDIA [ESPN]\": \"media_espn\",\n",
    "    \"Q12: MEDIA [Yahoo]\": \"media_yahoo\",\n",
    "    \"Click Coordinates (x, y)\": \"x_y\",\n",
    "    \n",
    "}, inplace=True, errors='raise')"
   ]
  },
  {
   "cell_type": "code",
   "execution_count": 3,
   "metadata": {},
   "outputs": [
    {
     "name": "stdout",
     "output_type": "stream",
     "text": [
      "<class 'pandas.core.frame.DataFrame'>\n",
      "RangeIndex: 2460 entries, 0 to 2459\n",
      "Data columns (total 120 columns):\n",
      " #    Column                     Non-Null Count  Dtype  \n",
      "---   ------                     --------------  -----  \n",
      " 0    inid                       2460 non-null   int64  \n",
      " 1    going_out                  2350 non-null   object \n",
      " 2    gender                     2419 non-null   object \n",
      " 3    age                        2376 non-null   object \n",
      " 4    country                    2396 non-null   object \n",
      " 5    state                      2360 non-null   object \n",
      " 6    grand_bar                  1713 non-null   object \n",
      " 7    mary_janes                 1726 non-null   object \n",
      " 8    full_candy_bar             1788 non-null   object \n",
      " 9    black_jacks                1502 non-null   object \n",
      " 10   bonkers_candy              1468 non-null   object \n",
      " 11   bonkers_game               1454 non-null   object \n",
      " 12   bottle_caps                1695 non-null   object \n",
      " 13   box_o_raisins              1772 non-null   object \n",
      " 14   broken_glow_stick          1754 non-null   object \n",
      " 15   butterfinger               1778 non-null   object \n",
      " 16   cadbury_creme_eggs         1777 non-null   object \n",
      " 17   candy_corn                 1782 non-null   object \n",
      " 18   free_candy                 1769 non-null   object \n",
      " 19   caramellos                 1708 non-null   object \n",
      " 20   legal_tender_cash          1780 non-null   object \n",
      " 21   chardonnay                 1717 non-null   object \n",
      " 22   chick_o_sticks             1514 non-null   object \n",
      " 23   chiclets                   1749 non-null   object \n",
      " 24   coffee_crisp               1607 non-null   object \n",
      " 25   creepy_tracts              1756 non-null   object \n",
      " 26   dental_paraphenalia        1768 non-null   object \n",
      " 27   dots                       1731 non-null   object \n",
      " 28   dove_bars                  1758 non-null   object \n",
      " 29   fuzzy_peaches              1637 non-null   object \n",
      " 30   acetaminophen              1729 non-null   object \n",
      " 31   glow_sticks                1763 non-null   object \n",
      " 32   goo_goo_clusters           1581 non-null   object \n",
      " 33   good_plenty                1726 non-null   object \n",
      " 34   baseball_cards_gum         1744 non-null   object \n",
      " 35   gummy_bears                1763 non-null   object \n",
      " 36   hard_candy                 1765 non-null   object \n",
      " 37   healthy_fruit              1766 non-null   object \n",
      " 38   health_bar                 1748 non-null   object \n",
      " 39   hershey_dark_chocolate     1787 non-null   object \n",
      " 40   hershey_milk_chocolate     1788 non-null   object \n",
      " 41   hershey_kisses             1782 non-null   object \n",
      " 42   hugs                       1747 non-null   object \n",
      " 43   jolly_rancher_bad          1766 non-null   object \n",
      " 44   jolly_rancher_good         1765 non-null   object \n",
      " 45   joy_joy                    1434 non-null   object \n",
      " 46   joniour_mints              1762 non-null   object \n",
      " 47   senior_mints               1518 non-null   object \n",
      " 48   kale_smoothie              1716 non-null   object \n",
      " 49   kinder_happy_hippo         1515 non-null   object \n",
      " 50   kit_kat                    1786 non-null   object \n",
      " 51   laffy_taffy                1724 non-null   object \n",
      " 52   lemon_heads                1730 non-null   object \n",
      " 53   licorice_nblack            1774 non-null   object \n",
      " 54   licorice_black             1775 non-null   object \n",
      " 55   lindt_truffle              1742 non-null   object \n",
      " 56   lollipops                  1769 non-null   object \n",
      " 57   mars                       1735 non-null   object \n",
      " 58   maynards                   1436 non-null   object \n",
      " 59   mike_and_ike               1731 non-null   object \n",
      " 60   milk_duds                  1767 non-null   object \n",
      " 61   milky_way                  1772 non-null   object \n",
      " 62   regular_mm                 1785 non-null   object \n",
      " 63   peanut_mm                  1789 non-null   object \n",
      " 64   blue_mm                    1733 non-null   object \n",
      " 65   red_mm                     1731 non-null   object \n",
      " 66   green_party_mm             1696 non-null   object \n",
      " 67   independent_mm             1647 non-null   object \n",
      " 68   no_mm                      1518 non-null   object \n",
      " 69   minibags_chips             1736 non-null   object \n",
      " 70   mint_kisses                1684 non-null   object \n",
      " 71   mint_juleps                1649 non-null   object \n",
      " 72   mr_goodbar                 1720 non-null   object \n",
      " 73   necco_wafers               1716 non-null   object \n",
      " 74   nerds                      1737 non-null   object \n",
      " 75   nestle_crunch              1762 non-null   object \n",
      " 76   now_n_laters               1643 non-null   object \n",
      " 77   peeps                      1750 non-null   object \n",
      " 78   pencils                    1751 non-null   object \n",
      " 79   pixy_stix                  1738 non-null   object \n",
      " 80   rhoocs_blueray             1707 non-null   object \n",
      " 81   reese_peanut_butter_cup    1781 non-null   object \n",
      " 82   reese_pieces               1769 non-null   object \n",
      " 83   reggie_jackson_bar         1446 non-null   object \n",
      " 84   rolos                      1746 non-null   object \n",
      " 85   booberry_crunch            1684 non-null   object \n",
      " 86   skittles                   1754 non-null   object \n",
      " 87   american_smarties          1735 non-null   object \n",
      " 88   commonwelth_smarties       1559 non-null   object \n",
      " 89   snickers                   1770 non-null   object \n",
      " 90   sourpatch_kids             1722 non-null   object \n",
      " 91   spotted_dick               1578 non-null   object \n",
      " 92   starburst                  1767 non-null   object \n",
      " 93   sweet_tarts                1752 non-null   object \n",
      " 94   swedish_fish               1745 non-null   object \n",
      " 95   sweetums                   1458 non-null   object \n",
      " 96   take5                      1543 non-null   object \n",
      " 97   tic_tacs                   1746 non-null   object \n",
      " 98   marshmallow_circus_peanut  1724 non-null   object \n",
      " 99   three_musketeers           1752 non-null   object \n",
      " 100  tolberone_other            1754 non-null   object \n",
      " 101  trail_mix                  1752 non-null   object \n",
      " 102  twix                       1770 non-null   object \n",
      " 103  fructose_corn_syrup        1668 non-null   object \n",
      " 104  vicodin                    1671 non-null   object \n",
      " 105  watchamacallit_bars        1637 non-null   object \n",
      " 106  white_bread                1703 non-null   object \n",
      " 107  whole_wheat_anything       1713 non-null   object \n",
      " 108  york_peppermint_patties    1755 non-null   object \n",
      " 109  other_joy                  911 non-null    object \n",
      " 110  other_despair              717 non-null    object \n",
      " 111  other_commemts             386 non-null    object \n",
      " 112  dress                      1716 non-null   object \n",
      " 113  Unnamed: 113               9 non-null      object \n",
      " 114  day_prefer                 1735 non-null   object \n",
      " 115  media_dailydish            85 non-null     float64\n",
      " 116  media_science              1362 non-null   float64\n",
      " 117  media_espn                 99 non-null     float64\n",
      " 118  media_yahoo                67 non-null     float64\n",
      " 119  x_y                        1605 non-null   object \n",
      "dtypes: float64(4), int64(1), object(115)\n",
      "memory usage: 2.3+ MB\n"
     ]
    }
   ],
   "source": [
    "df.info(verbose=True, show_counts=True)"
   ]
  },
  {
   "cell_type": "code",
   "execution_count": 4,
   "metadata": {},
   "outputs": [
    {
     "data": {
      "text/plain": [
       "array([nan,  1.])"
      ]
     },
     "execution_count": 4,
     "metadata": {},
     "output_type": "execute_result"
    }
   ],
   "source": [
    "df['media_dailydish'].unique()"
   ]
  },
  {
   "cell_type": "code",
   "execution_count": 5,
   "metadata": {},
   "outputs": [
    {
     "data": {
      "text/plain": [
       "0       NaN\n",
       "1       NaN\n",
       "2       NaN\n",
       "3       NaN\n",
       "4       NaN\n",
       "       ... \n",
       "2455    NaN\n",
       "2456    NaN\n",
       "2457    NaN\n",
       "2458    NaN\n",
       "2459    1.0\n",
       "Name: media_dailydish, Length: 2460, dtype: float64"
      ]
     },
     "execution_count": 5,
     "metadata": {},
     "output_type": "execute_result"
    }
   ],
   "source": [
    "df['media_dailydish']"
   ]
  },
  {
   "cell_type": "code",
   "execution_count": 6,
   "metadata": {},
   "outputs": [
    {
     "data": {
      "text/plain": [
       "2460"
      ]
     },
     "execution_count": 6,
     "metadata": {},
     "output_type": "execute_result"
    }
   ],
   "source": [
    "df['media_dailydish'].isnull().count()"
   ]
  },
  {
   "cell_type": "code",
   "execution_count": 7,
   "metadata": {},
   "outputs": [
    {
     "data": {
      "text/plain": [
       "(2460, 120)"
      ]
     },
     "execution_count": 7,
     "metadata": {},
     "output_type": "execute_result"
    }
   ],
   "source": [
    "df.shape"
   ]
  },
  {
   "cell_type": "markdown",
   "metadata": {},
   "source": [
    "# 2- show some general properties for the data "
   ]
  },
  {
   "cell_type": "code",
   "execution_count": 8,
   "metadata": {},
   "outputs": [
    {
     "data": {
      "text/plain": [
       "inid               2460\n",
       "going_out          2350\n",
       "gender             2419\n",
       "age                2376\n",
       "country            2396\n",
       "                   ... \n",
       "media_dailydish      85\n",
       "media_science      1362\n",
       "media_espn           99\n",
       "media_yahoo          67\n",
       "x_y                1605\n",
       "Length: 120, dtype: int64"
      ]
     },
     "execution_count": 8,
     "metadata": {},
     "output_type": "execute_result"
    }
   ],
   "source": [
    "df.count()"
   ]
  },
  {
   "cell_type": "code",
   "execution_count": 9,
   "metadata": {},
   "outputs": [
    {
     "data": {
      "text/html": [
       "<div>\n",
       "<style scoped>\n",
       "    .dataframe tbody tr th:only-of-type {\n",
       "        vertical-align: middle;\n",
       "    }\n",
       "\n",
       "    .dataframe tbody tr th {\n",
       "        vertical-align: top;\n",
       "    }\n",
       "\n",
       "    .dataframe thead th {\n",
       "        text-align: right;\n",
       "    }\n",
       "</style>\n",
       "<table border=\"1\" class=\"dataframe\">\n",
       "  <thead>\n",
       "    <tr style=\"text-align: right;\">\n",
       "      <th></th>\n",
       "      <th>inid</th>\n",
       "      <th>going_out</th>\n",
       "      <th>gender</th>\n",
       "      <th>age</th>\n",
       "      <th>country</th>\n",
       "      <th>state</th>\n",
       "      <th>grand_bar</th>\n",
       "      <th>mary_janes</th>\n",
       "      <th>full_candy_bar</th>\n",
       "      <th>black_jacks</th>\n",
       "      <th>bonkers_candy</th>\n",
       "      <th>bonkers_game</th>\n",
       "      <th>bottle_caps</th>\n",
       "      <th>box_o_raisins</th>\n",
       "      <th>broken_glow_stick</th>\n",
       "      <th>butterfinger</th>\n",
       "      <th>cadbury_creme_eggs</th>\n",
       "      <th>candy_corn</th>\n",
       "      <th>free_candy</th>\n",
       "      <th>caramellos</th>\n",
       "      <th>legal_tender_cash</th>\n",
       "      <th>chardonnay</th>\n",
       "      <th>chick_o_sticks</th>\n",
       "      <th>chiclets</th>\n",
       "      <th>coffee_crisp</th>\n",
       "      <th>creepy_tracts</th>\n",
       "      <th>dental_paraphenalia</th>\n",
       "      <th>dots</th>\n",
       "      <th>dove_bars</th>\n",
       "      <th>fuzzy_peaches</th>\n",
       "      <th>acetaminophen</th>\n",
       "      <th>glow_sticks</th>\n",
       "      <th>goo_goo_clusters</th>\n",
       "      <th>good_plenty</th>\n",
       "      <th>baseball_cards_gum</th>\n",
       "      <th>gummy_bears</th>\n",
       "      <th>hard_candy</th>\n",
       "      <th>healthy_fruit</th>\n",
       "      <th>health_bar</th>\n",
       "      <th>hershey_dark_chocolate</th>\n",
       "      <th>hershey_milk_chocolate</th>\n",
       "      <th>hershey_kisses</th>\n",
       "      <th>hugs</th>\n",
       "      <th>jolly_rancher_bad</th>\n",
       "      <th>jolly_rancher_good</th>\n",
       "      <th>joy_joy</th>\n",
       "      <th>joniour_mints</th>\n",
       "      <th>senior_mints</th>\n",
       "      <th>kale_smoothie</th>\n",
       "      <th>kinder_happy_hippo</th>\n",
       "      <th>kit_kat</th>\n",
       "      <th>laffy_taffy</th>\n",
       "      <th>lemon_heads</th>\n",
       "      <th>licorice_nblack</th>\n",
       "      <th>licorice_black</th>\n",
       "      <th>lindt_truffle</th>\n",
       "      <th>lollipops</th>\n",
       "      <th>mars</th>\n",
       "      <th>maynards</th>\n",
       "      <th>mike_and_ike</th>\n",
       "      <th>milk_duds</th>\n",
       "      <th>milky_way</th>\n",
       "      <th>regular_mm</th>\n",
       "      <th>peanut_mm</th>\n",
       "      <th>blue_mm</th>\n",
       "      <th>red_mm</th>\n",
       "      <th>green_party_mm</th>\n",
       "      <th>independent_mm</th>\n",
       "      <th>no_mm</th>\n",
       "      <th>minibags_chips</th>\n",
       "      <th>mint_kisses</th>\n",
       "      <th>mint_juleps</th>\n",
       "      <th>mr_goodbar</th>\n",
       "      <th>necco_wafers</th>\n",
       "      <th>nerds</th>\n",
       "      <th>nestle_crunch</th>\n",
       "      <th>now_n_laters</th>\n",
       "      <th>peeps</th>\n",
       "      <th>pencils</th>\n",
       "      <th>pixy_stix</th>\n",
       "      <th>rhoocs_blueray</th>\n",
       "      <th>reese_peanut_butter_cup</th>\n",
       "      <th>reese_pieces</th>\n",
       "      <th>reggie_jackson_bar</th>\n",
       "      <th>rolos</th>\n",
       "      <th>booberry_crunch</th>\n",
       "      <th>skittles</th>\n",
       "      <th>american_smarties</th>\n",
       "      <th>commonwelth_smarties</th>\n",
       "      <th>snickers</th>\n",
       "      <th>sourpatch_kids</th>\n",
       "      <th>spotted_dick</th>\n",
       "      <th>starburst</th>\n",
       "      <th>sweet_tarts</th>\n",
       "      <th>swedish_fish</th>\n",
       "      <th>sweetums</th>\n",
       "      <th>take5</th>\n",
       "      <th>tic_tacs</th>\n",
       "      <th>marshmallow_circus_peanut</th>\n",
       "      <th>three_musketeers</th>\n",
       "      <th>tolberone_other</th>\n",
       "      <th>trail_mix</th>\n",
       "      <th>twix</th>\n",
       "      <th>fructose_corn_syrup</th>\n",
       "      <th>vicodin</th>\n",
       "      <th>watchamacallit_bars</th>\n",
       "      <th>white_bread</th>\n",
       "      <th>whole_wheat_anything</th>\n",
       "      <th>york_peppermint_patties</th>\n",
       "      <th>other_joy</th>\n",
       "      <th>other_despair</th>\n",
       "      <th>other_commemts</th>\n",
       "      <th>dress</th>\n",
       "      <th>Unnamed: 113</th>\n",
       "      <th>day_prefer</th>\n",
       "      <th>media_dailydish</th>\n",
       "      <th>media_science</th>\n",
       "      <th>media_espn</th>\n",
       "      <th>media_yahoo</th>\n",
       "      <th>x_y</th>\n",
       "    </tr>\n",
       "  </thead>\n",
       "  <tbody>\n",
       "  </tbody>\n",
       "</table>\n",
       "</div>"
      ],
      "text/plain": [
       "Empty DataFrame\n",
       "Columns: [inid, going_out, gender, age, country, state, grand_bar, mary_janes, full_candy_bar, black_jacks, bonkers_candy, bonkers_game, bottle_caps, box_o_raisins, broken_glow_stick, butterfinger, cadbury_creme_eggs, candy_corn, free_candy, caramellos, legal_tender_cash, chardonnay, chick_o_sticks, chiclets, coffee_crisp, creepy_tracts, dental_paraphenalia, dots, dove_bars, fuzzy_peaches, acetaminophen, glow_sticks, goo_goo_clusters, good_plenty, baseball_cards_gum, gummy_bears, hard_candy, healthy_fruit, health_bar, hershey_dark_chocolate, hershey_milk_chocolate, hershey_kisses, hugs, jolly_rancher_bad, jolly_rancher_good, joy_joy, joniour_mints, senior_mints, kale_smoothie, kinder_happy_hippo, kit_kat, laffy_taffy, lemon_heads, licorice_nblack, licorice_black, lindt_truffle, lollipops, mars, maynards, mike_and_ike, milk_duds, milky_way, regular_mm, peanut_mm, blue_mm, red_mm, green_party_mm, independent_mm, no_mm, minibags_chips, mint_kisses, mint_juleps, mr_goodbar, necco_wafers, nerds, nestle_crunch, now_n_laters, peeps, pencils, pixy_stix, rhoocs_blueray, reese_peanut_butter_cup, reese_pieces, reggie_jackson_bar, rolos, booberry_crunch, skittles, american_smarties, commonwelth_smarties, snickers, sourpatch_kids, spotted_dick, starburst, sweet_tarts, swedish_fish, sweetums, take5, tic_tacs, marshmallow_circus_peanut, three_musketeers, ...]\n",
       "Index: []"
      ]
     },
     "execution_count": 9,
     "metadata": {},
     "output_type": "execute_result"
    }
   ],
   "source": [
    "df.loc[df.isna().all(axis=1)]"
   ]
  },
  {
   "cell_type": "code",
   "execution_count": 10,
   "metadata": {},
   "outputs": [
    {
     "data": {
      "text/plain": [
       "Index(['inid', 'going_out', 'gender', 'age', 'country', 'state', 'grand_bar',\n",
       "       'mary_janes', 'full_candy_bar', 'black_jacks',\n",
       "       ...\n",
       "       'other_despair', 'other_commemts', 'dress', 'Unnamed: 113',\n",
       "       'day_prefer', 'media_dailydish', 'media_science', 'media_espn',\n",
       "       'media_yahoo', 'x_y'],\n",
       "      dtype='object', length=120)"
      ]
     },
     "execution_count": 10,
     "metadata": {},
     "output_type": "execute_result"
    }
   ],
   "source": [
    "df.columns"
   ]
  },
  {
   "cell_type": "code",
   "execution_count": 11,
   "metadata": {},
   "outputs": [
    {
     "data": {
      "text/html": [
       "<div>\n",
       "<style scoped>\n",
       "    .dataframe tbody tr th:only-of-type {\n",
       "        vertical-align: middle;\n",
       "    }\n",
       "\n",
       "    .dataframe tbody tr th {\n",
       "        vertical-align: top;\n",
       "    }\n",
       "\n",
       "    .dataframe thead th {\n",
       "        text-align: right;\n",
       "    }\n",
       "</style>\n",
       "<table border=\"1\" class=\"dataframe\">\n",
       "  <thead>\n",
       "    <tr style=\"text-align: right;\">\n",
       "      <th></th>\n",
       "      <th>inid</th>\n",
       "      <th>media_dailydish</th>\n",
       "      <th>media_science</th>\n",
       "      <th>media_espn</th>\n",
       "      <th>media_yahoo</th>\n",
       "    </tr>\n",
       "  </thead>\n",
       "  <tbody>\n",
       "    <tr>\n",
       "      <th>count</th>\n",
       "      <td>2.460000e+03</td>\n",
       "      <td>85.0</td>\n",
       "      <td>1362.0</td>\n",
       "      <td>99.0</td>\n",
       "      <td>67.0</td>\n",
       "    </tr>\n",
       "    <tr>\n",
       "      <th>mean</th>\n",
       "      <td>9.028016e+07</td>\n",
       "      <td>1.0</td>\n",
       "      <td>1.0</td>\n",
       "      <td>1.0</td>\n",
       "      <td>1.0</td>\n",
       "    </tr>\n",
       "    <tr>\n",
       "      <th>std</th>\n",
       "      <td>7.435532e+03</td>\n",
       "      <td>0.0</td>\n",
       "      <td>0.0</td>\n",
       "      <td>0.0</td>\n",
       "      <td>0.0</td>\n",
       "    </tr>\n",
       "    <tr>\n",
       "      <th>min</th>\n",
       "      <td>9.025877e+07</td>\n",
       "      <td>1.0</td>\n",
       "      <td>1.0</td>\n",
       "      <td>1.0</td>\n",
       "      <td>1.0</td>\n",
       "    </tr>\n",
       "    <tr>\n",
       "      <th>25%</th>\n",
       "      <td>9.027520e+07</td>\n",
       "      <td>1.0</td>\n",
       "      <td>1.0</td>\n",
       "      <td>1.0</td>\n",
       "      <td>1.0</td>\n",
       "    </tr>\n",
       "    <tr>\n",
       "      <th>50%</th>\n",
       "      <td>9.027780e+07</td>\n",
       "      <td>1.0</td>\n",
       "      <td>1.0</td>\n",
       "      <td>1.0</td>\n",
       "      <td>1.0</td>\n",
       "    </tr>\n",
       "    <tr>\n",
       "      <th>75%</th>\n",
       "      <td>9.028242e+07</td>\n",
       "      <td>1.0</td>\n",
       "      <td>1.0</td>\n",
       "      <td>1.0</td>\n",
       "      <td>1.0</td>\n",
       "    </tr>\n",
       "    <tr>\n",
       "      <th>max</th>\n",
       "      <td>9.031480e+07</td>\n",
       "      <td>1.0</td>\n",
       "      <td>1.0</td>\n",
       "      <td>1.0</td>\n",
       "      <td>1.0</td>\n",
       "    </tr>\n",
       "  </tbody>\n",
       "</table>\n",
       "</div>"
      ],
      "text/plain": [
       "               inid  media_dailydish  media_science  media_espn  media_yahoo\n",
       "count  2.460000e+03             85.0         1362.0        99.0         67.0\n",
       "mean   9.028016e+07              1.0            1.0         1.0          1.0\n",
       "std    7.435532e+03              0.0            0.0         0.0          0.0\n",
       "min    9.025877e+07              1.0            1.0         1.0          1.0\n",
       "25%    9.027520e+07              1.0            1.0         1.0          1.0\n",
       "50%    9.027780e+07              1.0            1.0         1.0          1.0\n",
       "75%    9.028242e+07              1.0            1.0         1.0          1.0\n",
       "max    9.031480e+07              1.0            1.0         1.0          1.0"
      ]
     },
     "execution_count": 11,
     "metadata": {},
     "output_type": "execute_result"
    }
   ],
   "source": [
    "df.describe()"
   ]
  },
  {
   "cell_type": "code",
   "execution_count": 12,
   "metadata": {},
   "outputs": [
    {
     "data": {
      "text/plain": [
       "array([nan,  1.])"
      ]
     },
     "execution_count": 12,
     "metadata": {},
     "output_type": "execute_result"
    }
   ],
   "source": [
    "df['media_science'].unique()"
   ]
  },
  {
   "cell_type": "code",
   "execution_count": 13,
   "metadata": {},
   "outputs": [
    {
     "data": {
      "text/html": [
       "<div>\n",
       "<style scoped>\n",
       "    .dataframe tbody tr th:only-of-type {\n",
       "        vertical-align: middle;\n",
       "    }\n",
       "\n",
       "    .dataframe tbody tr th {\n",
       "        vertical-align: top;\n",
       "    }\n",
       "\n",
       "    .dataframe thead th {\n",
       "        text-align: right;\n",
       "    }\n",
       "</style>\n",
       "<table border=\"1\" class=\"dataframe\">\n",
       "  <thead>\n",
       "    <tr style=\"text-align: right;\">\n",
       "      <th></th>\n",
       "      <th>inid</th>\n",
       "      <th>going_out</th>\n",
       "      <th>gender</th>\n",
       "      <th>age</th>\n",
       "      <th>country</th>\n",
       "      <th>state</th>\n",
       "      <th>grand_bar</th>\n",
       "      <th>mary_janes</th>\n",
       "      <th>full_candy_bar</th>\n",
       "      <th>black_jacks</th>\n",
       "      <th>bonkers_candy</th>\n",
       "      <th>bonkers_game</th>\n",
       "      <th>bottle_caps</th>\n",
       "      <th>box_o_raisins</th>\n",
       "      <th>broken_glow_stick</th>\n",
       "      <th>butterfinger</th>\n",
       "      <th>cadbury_creme_eggs</th>\n",
       "      <th>candy_corn</th>\n",
       "      <th>free_candy</th>\n",
       "      <th>caramellos</th>\n",
       "      <th>legal_tender_cash</th>\n",
       "      <th>chardonnay</th>\n",
       "      <th>chick_o_sticks</th>\n",
       "      <th>chiclets</th>\n",
       "      <th>coffee_crisp</th>\n",
       "      <th>creepy_tracts</th>\n",
       "      <th>dental_paraphenalia</th>\n",
       "      <th>dots</th>\n",
       "      <th>dove_bars</th>\n",
       "      <th>fuzzy_peaches</th>\n",
       "      <th>acetaminophen</th>\n",
       "      <th>glow_sticks</th>\n",
       "      <th>goo_goo_clusters</th>\n",
       "      <th>good_plenty</th>\n",
       "      <th>baseball_cards_gum</th>\n",
       "      <th>gummy_bears</th>\n",
       "      <th>hard_candy</th>\n",
       "      <th>healthy_fruit</th>\n",
       "      <th>health_bar</th>\n",
       "      <th>hershey_dark_chocolate</th>\n",
       "      <th>hershey_milk_chocolate</th>\n",
       "      <th>hershey_kisses</th>\n",
       "      <th>hugs</th>\n",
       "      <th>jolly_rancher_bad</th>\n",
       "      <th>jolly_rancher_good</th>\n",
       "      <th>joy_joy</th>\n",
       "      <th>joniour_mints</th>\n",
       "      <th>senior_mints</th>\n",
       "      <th>kale_smoothie</th>\n",
       "      <th>kinder_happy_hippo</th>\n",
       "      <th>kit_kat</th>\n",
       "      <th>laffy_taffy</th>\n",
       "      <th>lemon_heads</th>\n",
       "      <th>licorice_nblack</th>\n",
       "      <th>licorice_black</th>\n",
       "      <th>lindt_truffle</th>\n",
       "      <th>lollipops</th>\n",
       "      <th>mars</th>\n",
       "      <th>maynards</th>\n",
       "      <th>mike_and_ike</th>\n",
       "      <th>milk_duds</th>\n",
       "      <th>milky_way</th>\n",
       "      <th>regular_mm</th>\n",
       "      <th>peanut_mm</th>\n",
       "      <th>blue_mm</th>\n",
       "      <th>red_mm</th>\n",
       "      <th>green_party_mm</th>\n",
       "      <th>independent_mm</th>\n",
       "      <th>no_mm</th>\n",
       "      <th>minibags_chips</th>\n",
       "      <th>mint_kisses</th>\n",
       "      <th>mint_juleps</th>\n",
       "      <th>mr_goodbar</th>\n",
       "      <th>necco_wafers</th>\n",
       "      <th>nerds</th>\n",
       "      <th>nestle_crunch</th>\n",
       "      <th>now_n_laters</th>\n",
       "      <th>peeps</th>\n",
       "      <th>pencils</th>\n",
       "      <th>pixy_stix</th>\n",
       "      <th>rhoocs_blueray</th>\n",
       "      <th>reese_peanut_butter_cup</th>\n",
       "      <th>reese_pieces</th>\n",
       "      <th>reggie_jackson_bar</th>\n",
       "      <th>rolos</th>\n",
       "      <th>booberry_crunch</th>\n",
       "      <th>skittles</th>\n",
       "      <th>american_smarties</th>\n",
       "      <th>commonwelth_smarties</th>\n",
       "      <th>snickers</th>\n",
       "      <th>sourpatch_kids</th>\n",
       "      <th>spotted_dick</th>\n",
       "      <th>starburst</th>\n",
       "      <th>sweet_tarts</th>\n",
       "      <th>swedish_fish</th>\n",
       "      <th>sweetums</th>\n",
       "      <th>take5</th>\n",
       "      <th>tic_tacs</th>\n",
       "      <th>marshmallow_circus_peanut</th>\n",
       "      <th>three_musketeers</th>\n",
       "      <th>tolberone_other</th>\n",
       "      <th>trail_mix</th>\n",
       "      <th>twix</th>\n",
       "      <th>fructose_corn_syrup</th>\n",
       "      <th>vicodin</th>\n",
       "      <th>watchamacallit_bars</th>\n",
       "      <th>white_bread</th>\n",
       "      <th>whole_wheat_anything</th>\n",
       "      <th>york_peppermint_patties</th>\n",
       "      <th>other_joy</th>\n",
       "      <th>other_despair</th>\n",
       "      <th>other_commemts</th>\n",
       "      <th>dress</th>\n",
       "      <th>Unnamed: 113</th>\n",
       "      <th>day_prefer</th>\n",
       "      <th>media_dailydish</th>\n",
       "      <th>media_science</th>\n",
       "      <th>media_espn</th>\n",
       "      <th>media_yahoo</th>\n",
       "      <th>x_y</th>\n",
       "    </tr>\n",
       "  </thead>\n",
       "  <tbody>\n",
       "    <tr>\n",
       "      <th>0</th>\n",
       "      <td>90258773</td>\n",
       "      <td>NaN</td>\n",
       "      <td>NaN</td>\n",
       "      <td>NaN</td>\n",
       "      <td>NaN</td>\n",
       "      <td>NaN</td>\n",
       "      <td>NaN</td>\n",
       "      <td>NaN</td>\n",
       "      <td>NaN</td>\n",
       "      <td>NaN</td>\n",
       "      <td>NaN</td>\n",
       "      <td>NaN</td>\n",
       "      <td>NaN</td>\n",
       "      <td>NaN</td>\n",
       "      <td>NaN</td>\n",
       "      <td>NaN</td>\n",
       "      <td>NaN</td>\n",
       "      <td>NaN</td>\n",
       "      <td>NaN</td>\n",
       "      <td>NaN</td>\n",
       "      <td>NaN</td>\n",
       "      <td>NaN</td>\n",
       "      <td>NaN</td>\n",
       "      <td>NaN</td>\n",
       "      <td>NaN</td>\n",
       "      <td>NaN</td>\n",
       "      <td>NaN</td>\n",
       "      <td>NaN</td>\n",
       "      <td>NaN</td>\n",
       "      <td>NaN</td>\n",
       "      <td>NaN</td>\n",
       "      <td>NaN</td>\n",
       "      <td>NaN</td>\n",
       "      <td>NaN</td>\n",
       "      <td>NaN</td>\n",
       "      <td>NaN</td>\n",
       "      <td>NaN</td>\n",
       "      <td>NaN</td>\n",
       "      <td>NaN</td>\n",
       "      <td>NaN</td>\n",
       "      <td>NaN</td>\n",
       "      <td>NaN</td>\n",
       "      <td>NaN</td>\n",
       "      <td>NaN</td>\n",
       "      <td>NaN</td>\n",
       "      <td>NaN</td>\n",
       "      <td>NaN</td>\n",
       "      <td>NaN</td>\n",
       "      <td>NaN</td>\n",
       "      <td>NaN</td>\n",
       "      <td>NaN</td>\n",
       "      <td>NaN</td>\n",
       "      <td>NaN</td>\n",
       "      <td>NaN</td>\n",
       "      <td>NaN</td>\n",
       "      <td>NaN</td>\n",
       "      <td>NaN</td>\n",
       "      <td>NaN</td>\n",
       "      <td>NaN</td>\n",
       "      <td>NaN</td>\n",
       "      <td>NaN</td>\n",
       "      <td>NaN</td>\n",
       "      <td>NaN</td>\n",
       "      <td>NaN</td>\n",
       "      <td>NaN</td>\n",
       "      <td>NaN</td>\n",
       "      <td>NaN</td>\n",
       "      <td>NaN</td>\n",
       "      <td>NaN</td>\n",
       "      <td>NaN</td>\n",
       "      <td>NaN</td>\n",
       "      <td>NaN</td>\n",
       "      <td>NaN</td>\n",
       "      <td>NaN</td>\n",
       "      <td>NaN</td>\n",
       "      <td>NaN</td>\n",
       "      <td>NaN</td>\n",
       "      <td>NaN</td>\n",
       "      <td>NaN</td>\n",
       "      <td>NaN</td>\n",
       "      <td>NaN</td>\n",
       "      <td>NaN</td>\n",
       "      <td>NaN</td>\n",
       "      <td>NaN</td>\n",
       "      <td>NaN</td>\n",
       "      <td>NaN</td>\n",
       "      <td>NaN</td>\n",
       "      <td>NaN</td>\n",
       "      <td>NaN</td>\n",
       "      <td>NaN</td>\n",
       "      <td>NaN</td>\n",
       "      <td>NaN</td>\n",
       "      <td>NaN</td>\n",
       "      <td>NaN</td>\n",
       "      <td>NaN</td>\n",
       "      <td>NaN</td>\n",
       "      <td>NaN</td>\n",
       "      <td>NaN</td>\n",
       "      <td>NaN</td>\n",
       "      <td>NaN</td>\n",
       "      <td>NaN</td>\n",
       "      <td>NaN</td>\n",
       "      <td>NaN</td>\n",
       "      <td>NaN</td>\n",
       "      <td>NaN</td>\n",
       "      <td>NaN</td>\n",
       "      <td>NaN</td>\n",
       "      <td>NaN</td>\n",
       "      <td>NaN</td>\n",
       "      <td>NaN</td>\n",
       "      <td>NaN</td>\n",
       "      <td>NaN</td>\n",
       "      <td>NaN</td>\n",
       "      <td>NaN</td>\n",
       "      <td>NaN</td>\n",
       "      <td>NaN</td>\n",
       "      <td>NaN</td>\n",
       "      <td>NaN</td>\n",
       "      <td>NaN</td>\n",
       "      <td>NaN</td>\n",
       "    </tr>\n",
       "    <tr>\n",
       "      <th>1</th>\n",
       "      <td>90272821</td>\n",
       "      <td>No</td>\n",
       "      <td>Male</td>\n",
       "      <td>44</td>\n",
       "      <td>USA</td>\n",
       "      <td>NM</td>\n",
       "      <td>MEH</td>\n",
       "      <td>DESPAIR</td>\n",
       "      <td>JOY</td>\n",
       "      <td>MEH</td>\n",
       "      <td>DESPAIR</td>\n",
       "      <td>DESPAIR</td>\n",
       "      <td>DESPAIR</td>\n",
       "      <td>DESPAIR</td>\n",
       "      <td>DESPAIR</td>\n",
       "      <td>DESPAIR</td>\n",
       "      <td>MEH</td>\n",
       "      <td>MEH</td>\n",
       "      <td>DESPAIR</td>\n",
       "      <td>MEH</td>\n",
       "      <td>JOY</td>\n",
       "      <td>MEH</td>\n",
       "      <td>DESPAIR</td>\n",
       "      <td>DESPAIR</td>\n",
       "      <td>DESPAIR</td>\n",
       "      <td>DESPAIR</td>\n",
       "      <td>DESPAIR</td>\n",
       "      <td>MEH</td>\n",
       "      <td>JOY</td>\n",
       "      <td>DESPAIR</td>\n",
       "      <td>DESPAIR</td>\n",
       "      <td>DESPAIR</td>\n",
       "      <td>DESPAIR</td>\n",
       "      <td>MEH</td>\n",
       "      <td>DESPAIR</td>\n",
       "      <td>MEH</td>\n",
       "      <td>MEH</td>\n",
       "      <td>DESPAIR</td>\n",
       "      <td>MEH</td>\n",
       "      <td>JOY</td>\n",
       "      <td>JOY</td>\n",
       "      <td>MEH</td>\n",
       "      <td>DESPAIR</td>\n",
       "      <td>DESPAIR</td>\n",
       "      <td>MEH</td>\n",
       "      <td>DESPAIR</td>\n",
       "      <td>DESPAIR</td>\n",
       "      <td>DESPAIR</td>\n",
       "      <td>DESPAIR</td>\n",
       "      <td>DESPAIR</td>\n",
       "      <td>JOY</td>\n",
       "      <td>DESPAIR</td>\n",
       "      <td>MEH</td>\n",
       "      <td>MEH</td>\n",
       "      <td>JOY</td>\n",
       "      <td>MEH</td>\n",
       "      <td>DESPAIR</td>\n",
       "      <td>DESPAIR</td>\n",
       "      <td>DESPAIR</td>\n",
       "      <td>MEH</td>\n",
       "      <td>MEH</td>\n",
       "      <td>JOY</td>\n",
       "      <td>JOY</td>\n",
       "      <td>MEH</td>\n",
       "      <td>JOY</td>\n",
       "      <td>JOY</td>\n",
       "      <td>JOY</td>\n",
       "      <td>JOY</td>\n",
       "      <td>DESPAIR</td>\n",
       "      <td>DESPAIR</td>\n",
       "      <td>MEH</td>\n",
       "      <td>DESPAIR</td>\n",
       "      <td>DESPAIR</td>\n",
       "      <td>DESPAIR</td>\n",
       "      <td>DESPAIR</td>\n",
       "      <td>JOY</td>\n",
       "      <td>DESPAIR</td>\n",
       "      <td>DESPAIR</td>\n",
       "      <td>DESPAIR</td>\n",
       "      <td>DESPAIR</td>\n",
       "      <td>DESPAIR</td>\n",
       "      <td>JOY</td>\n",
       "      <td>JOY</td>\n",
       "      <td>DESPAIR</td>\n",
       "      <td>JOY</td>\n",
       "      <td>DESPAIR</td>\n",
       "      <td>DESPAIR</td>\n",
       "      <td>DESPAIR</td>\n",
       "      <td>DESPAIR</td>\n",
       "      <td>MEH</td>\n",
       "      <td>DESPAIR</td>\n",
       "      <td>DESPAIR</td>\n",
       "      <td>MEH</td>\n",
       "      <td>DESPAIR</td>\n",
       "      <td>MEH</td>\n",
       "      <td>DESPAIR</td>\n",
       "      <td>DESPAIR</td>\n",
       "      <td>DESPAIR</td>\n",
       "      <td>DESPAIR</td>\n",
       "      <td>JOY</td>\n",
       "      <td>JOY</td>\n",
       "      <td>DESPAIR</td>\n",
       "      <td>JOY</td>\n",
       "      <td>DESPAIR</td>\n",
       "      <td>DESPAIR</td>\n",
       "      <td>DESPAIR</td>\n",
       "      <td>DESPAIR</td>\n",
       "      <td>DESPAIR</td>\n",
       "      <td>DESPAIR</td>\n",
       "      <td>Mounds</td>\n",
       "      <td>NaN</td>\n",
       "      <td>Bottom line is Twix is really the only candy w...</td>\n",
       "      <td>White and gold</td>\n",
       "      <td>NaN</td>\n",
       "      <td>Sunday</td>\n",
       "      <td>NaN</td>\n",
       "      <td>1.0</td>\n",
       "      <td>NaN</td>\n",
       "      <td>NaN</td>\n",
       "      <td>(84, 25)</td>\n",
       "    </tr>\n",
       "    <tr>\n",
       "      <th>2</th>\n",
       "      <td>90272829</td>\n",
       "      <td>NaN</td>\n",
       "      <td>Male</td>\n",
       "      <td>49</td>\n",
       "      <td>USA</td>\n",
       "      <td>Virginia</td>\n",
       "      <td>NaN</td>\n",
       "      <td>NaN</td>\n",
       "      <td>NaN</td>\n",
       "      <td>NaN</td>\n",
       "      <td>NaN</td>\n",
       "      <td>NaN</td>\n",
       "      <td>NaN</td>\n",
       "      <td>NaN</td>\n",
       "      <td>NaN</td>\n",
       "      <td>NaN</td>\n",
       "      <td>NaN</td>\n",
       "      <td>NaN</td>\n",
       "      <td>NaN</td>\n",
       "      <td>NaN</td>\n",
       "      <td>NaN</td>\n",
       "      <td>NaN</td>\n",
       "      <td>NaN</td>\n",
       "      <td>NaN</td>\n",
       "      <td>NaN</td>\n",
       "      <td>NaN</td>\n",
       "      <td>NaN</td>\n",
       "      <td>NaN</td>\n",
       "      <td>NaN</td>\n",
       "      <td>NaN</td>\n",
       "      <td>NaN</td>\n",
       "      <td>NaN</td>\n",
       "      <td>NaN</td>\n",
       "      <td>NaN</td>\n",
       "      <td>NaN</td>\n",
       "      <td>NaN</td>\n",
       "      <td>NaN</td>\n",
       "      <td>NaN</td>\n",
       "      <td>NaN</td>\n",
       "      <td>NaN</td>\n",
       "      <td>NaN</td>\n",
       "      <td>NaN</td>\n",
       "      <td>NaN</td>\n",
       "      <td>NaN</td>\n",
       "      <td>NaN</td>\n",
       "      <td>NaN</td>\n",
       "      <td>NaN</td>\n",
       "      <td>NaN</td>\n",
       "      <td>NaN</td>\n",
       "      <td>NaN</td>\n",
       "      <td>NaN</td>\n",
       "      <td>NaN</td>\n",
       "      <td>NaN</td>\n",
       "      <td>NaN</td>\n",
       "      <td>NaN</td>\n",
       "      <td>NaN</td>\n",
       "      <td>NaN</td>\n",
       "      <td>NaN</td>\n",
       "      <td>NaN</td>\n",
       "      <td>NaN</td>\n",
       "      <td>NaN</td>\n",
       "      <td>NaN</td>\n",
       "      <td>NaN</td>\n",
       "      <td>NaN</td>\n",
       "      <td>NaN</td>\n",
       "      <td>NaN</td>\n",
       "      <td>NaN</td>\n",
       "      <td>NaN</td>\n",
       "      <td>NaN</td>\n",
       "      <td>NaN</td>\n",
       "      <td>NaN</td>\n",
       "      <td>NaN</td>\n",
       "      <td>NaN</td>\n",
       "      <td>NaN</td>\n",
       "      <td>NaN</td>\n",
       "      <td>NaN</td>\n",
       "      <td>NaN</td>\n",
       "      <td>NaN</td>\n",
       "      <td>NaN</td>\n",
       "      <td>NaN</td>\n",
       "      <td>NaN</td>\n",
       "      <td>NaN</td>\n",
       "      <td>NaN</td>\n",
       "      <td>NaN</td>\n",
       "      <td>NaN</td>\n",
       "      <td>NaN</td>\n",
       "      <td>NaN</td>\n",
       "      <td>NaN</td>\n",
       "      <td>NaN</td>\n",
       "      <td>NaN</td>\n",
       "      <td>NaN</td>\n",
       "      <td>NaN</td>\n",
       "      <td>NaN</td>\n",
       "      <td>NaN</td>\n",
       "      <td>NaN</td>\n",
       "      <td>NaN</td>\n",
       "      <td>NaN</td>\n",
       "      <td>NaN</td>\n",
       "      <td>NaN</td>\n",
       "      <td>NaN</td>\n",
       "      <td>NaN</td>\n",
       "      <td>NaN</td>\n",
       "      <td>NaN</td>\n",
       "      <td>NaN</td>\n",
       "      <td>NaN</td>\n",
       "      <td>NaN</td>\n",
       "      <td>NaN</td>\n",
       "      <td>NaN</td>\n",
       "      <td>NaN</td>\n",
       "      <td>NaN</td>\n",
       "      <td>NaN</td>\n",
       "      <td>NaN</td>\n",
       "      <td>NaN</td>\n",
       "      <td>NaN</td>\n",
       "      <td>NaN</td>\n",
       "      <td>NaN</td>\n",
       "      <td>NaN</td>\n",
       "      <td>NaN</td>\n",
       "      <td>NaN</td>\n",
       "      <td>NaN</td>\n",
       "    </tr>\n",
       "    <tr>\n",
       "      <th>3</th>\n",
       "      <td>90272840</td>\n",
       "      <td>No</td>\n",
       "      <td>Male</td>\n",
       "      <td>40</td>\n",
       "      <td>us</td>\n",
       "      <td>or</td>\n",
       "      <td>MEH</td>\n",
       "      <td>DESPAIR</td>\n",
       "      <td>JOY</td>\n",
       "      <td>MEH</td>\n",
       "      <td>MEH</td>\n",
       "      <td>DESPAIR</td>\n",
       "      <td>MEH</td>\n",
       "      <td>DESPAIR</td>\n",
       "      <td>DESPAIR</td>\n",
       "      <td>MEH</td>\n",
       "      <td>MEH</td>\n",
       "      <td>DESPAIR</td>\n",
       "      <td>DESPAIR</td>\n",
       "      <td>MEH</td>\n",
       "      <td>JOY</td>\n",
       "      <td>MEH</td>\n",
       "      <td>JOY</td>\n",
       "      <td>MEH</td>\n",
       "      <td>DESPAIR</td>\n",
       "      <td>DESPAIR</td>\n",
       "      <td>DESPAIR</td>\n",
       "      <td>JOY</td>\n",
       "      <td>JOY</td>\n",
       "      <td>MEH</td>\n",
       "      <td>MEH</td>\n",
       "      <td>JOY</td>\n",
       "      <td>JOY</td>\n",
       "      <td>MEH</td>\n",
       "      <td>DESPAIR</td>\n",
       "      <td>JOY</td>\n",
       "      <td>MEH</td>\n",
       "      <td>MEH</td>\n",
       "      <td>DESPAIR</td>\n",
       "      <td>MEH</td>\n",
       "      <td>MEH</td>\n",
       "      <td>MEH</td>\n",
       "      <td>MEH</td>\n",
       "      <td>MEH</td>\n",
       "      <td>MEH</td>\n",
       "      <td>DESPAIR</td>\n",
       "      <td>DESPAIR</td>\n",
       "      <td>DESPAIR</td>\n",
       "      <td>DESPAIR</td>\n",
       "      <td>MEH</td>\n",
       "      <td>MEH</td>\n",
       "      <td>JOY</td>\n",
       "      <td>JOY</td>\n",
       "      <td>MEH</td>\n",
       "      <td>JOY</td>\n",
       "      <td>JOY</td>\n",
       "      <td>DESPAIR</td>\n",
       "      <td>JOY</td>\n",
       "      <td>MEH</td>\n",
       "      <td>MEH</td>\n",
       "      <td>DESPAIR</td>\n",
       "      <td>JOY</td>\n",
       "      <td>MEH</td>\n",
       "      <td>JOY</td>\n",
       "      <td>MEH</td>\n",
       "      <td>MEH</td>\n",
       "      <td>MEH</td>\n",
       "      <td>MEH</td>\n",
       "      <td>MEH</td>\n",
       "      <td>DESPAIR</td>\n",
       "      <td>DESPAIR</td>\n",
       "      <td>MEH</td>\n",
       "      <td>MEH</td>\n",
       "      <td>DESPAIR</td>\n",
       "      <td>MEH</td>\n",
       "      <td>MEH</td>\n",
       "      <td>MEH</td>\n",
       "      <td>DESPAIR</td>\n",
       "      <td>DESPAIR</td>\n",
       "      <td>DESPAIR</td>\n",
       "      <td>DESPAIR</td>\n",
       "      <td>JOY</td>\n",
       "      <td>MEH</td>\n",
       "      <td>MEH</td>\n",
       "      <td>MEH</td>\n",
       "      <td>DESPAIR</td>\n",
       "      <td>DESPAIR</td>\n",
       "      <td>DESPAIR</td>\n",
       "      <td>MEH</td>\n",
       "      <td>JOY</td>\n",
       "      <td>MEH</td>\n",
       "      <td>DESPAIR</td>\n",
       "      <td>MEH</td>\n",
       "      <td>MEH</td>\n",
       "      <td>JOY</td>\n",
       "      <td>MEH</td>\n",
       "      <td>JOY</td>\n",
       "      <td>MEH</td>\n",
       "      <td>DESPAIR</td>\n",
       "      <td>DESPAIR</td>\n",
       "      <td>JOY</td>\n",
       "      <td>MEH</td>\n",
       "      <td>JOY</td>\n",
       "      <td>DESPAIR</td>\n",
       "      <td>JOY</td>\n",
       "      <td>JOY</td>\n",
       "      <td>DESPAIR</td>\n",
       "      <td>DESPAIR</td>\n",
       "      <td>DESPAIR</td>\n",
       "      <td>Reese's crispy crunchy bars, 5th avenue bars, ...</td>\n",
       "      <td>NaN</td>\n",
       "      <td>Raisins can go to hell</td>\n",
       "      <td>White and gold</td>\n",
       "      <td>NaN</td>\n",
       "      <td>Sunday</td>\n",
       "      <td>NaN</td>\n",
       "      <td>1.0</td>\n",
       "      <td>NaN</td>\n",
       "      <td>NaN</td>\n",
       "      <td>(75, 23)</td>\n",
       "    </tr>\n",
       "    <tr>\n",
       "      <th>4</th>\n",
       "      <td>90272841</td>\n",
       "      <td>No</td>\n",
       "      <td>Male</td>\n",
       "      <td>23</td>\n",
       "      <td>usa</td>\n",
       "      <td>exton pa</td>\n",
       "      <td>JOY</td>\n",
       "      <td>DESPAIR</td>\n",
       "      <td>JOY</td>\n",
       "      <td>DESPAIR</td>\n",
       "      <td>MEH</td>\n",
       "      <td>DESPAIR</td>\n",
       "      <td>MEH</td>\n",
       "      <td>DESPAIR</td>\n",
       "      <td>DESPAIR</td>\n",
       "      <td>MEH</td>\n",
       "      <td>MEH</td>\n",
       "      <td>DESPAIR</td>\n",
       "      <td>DESPAIR</td>\n",
       "      <td>JOY</td>\n",
       "      <td>MEH</td>\n",
       "      <td>JOY</td>\n",
       "      <td>DESPAIR</td>\n",
       "      <td>DESPAIR</td>\n",
       "      <td>MEH</td>\n",
       "      <td>DESPAIR</td>\n",
       "      <td>DESPAIR</td>\n",
       "      <td>MEH</td>\n",
       "      <td>JOY</td>\n",
       "      <td>DESPAIR</td>\n",
       "      <td>DESPAIR</td>\n",
       "      <td>DESPAIR</td>\n",
       "      <td>MEH</td>\n",
       "      <td>MEH</td>\n",
       "      <td>DESPAIR</td>\n",
       "      <td>JOY</td>\n",
       "      <td>MEH</td>\n",
       "      <td>DESPAIR</td>\n",
       "      <td>DESPAIR</td>\n",
       "      <td>JOY</td>\n",
       "      <td>MEH</td>\n",
       "      <td>MEH</td>\n",
       "      <td>DESPAIR</td>\n",
       "      <td>MEH</td>\n",
       "      <td>JOY</td>\n",
       "      <td>MEH</td>\n",
       "      <td>JOY</td>\n",
       "      <td>DESPAIR</td>\n",
       "      <td>DESPAIR</td>\n",
       "      <td>JOY</td>\n",
       "      <td>JOY</td>\n",
       "      <td>JOY</td>\n",
       "      <td>JOY</td>\n",
       "      <td>MEH</td>\n",
       "      <td>DESPAIR</td>\n",
       "      <td>JOY</td>\n",
       "      <td>MEH</td>\n",
       "      <td>MEH</td>\n",
       "      <td>DESPAIR</td>\n",
       "      <td>MEH</td>\n",
       "      <td>MEH</td>\n",
       "      <td>JOY</td>\n",
       "      <td>JOY</td>\n",
       "      <td>JOY</td>\n",
       "      <td>JOY</td>\n",
       "      <td>JOY</td>\n",
       "      <td>JOY</td>\n",
       "      <td>JOY</td>\n",
       "      <td>MEH</td>\n",
       "      <td>DESPAIR</td>\n",
       "      <td>JOY</td>\n",
       "      <td>JOY</td>\n",
       "      <td>MEH</td>\n",
       "      <td>DESPAIR</td>\n",
       "      <td>JOY</td>\n",
       "      <td>JOY</td>\n",
       "      <td>JOY</td>\n",
       "      <td>MEH</td>\n",
       "      <td>DESPAIR</td>\n",
       "      <td>JOY</td>\n",
       "      <td>DESPAIR</td>\n",
       "      <td>JOY</td>\n",
       "      <td>JOY</td>\n",
       "      <td>MEH</td>\n",
       "      <td>JOY</td>\n",
       "      <td>NaN</td>\n",
       "      <td>JOY</td>\n",
       "      <td>JOY</td>\n",
       "      <td>DESPAIR</td>\n",
       "      <td>NaN</td>\n",
       "      <td>MEH</td>\n",
       "      <td>DESPAIR</td>\n",
       "      <td>JOY</td>\n",
       "      <td>JOY</td>\n",
       "      <td>MEH</td>\n",
       "      <td>DESPAIR</td>\n",
       "      <td>MEH</td>\n",
       "      <td>DESPAIR</td>\n",
       "      <td>DESPAIR</td>\n",
       "      <td>JOY</td>\n",
       "      <td>JOY</td>\n",
       "      <td>DESPAIR</td>\n",
       "      <td>JOY</td>\n",
       "      <td>MEH</td>\n",
       "      <td>JOY</td>\n",
       "      <td>JOY</td>\n",
       "      <td>DESPAIR</td>\n",
       "      <td>DESPAIR</td>\n",
       "      <td>JOY</td>\n",
       "      <td>NaN</td>\n",
       "      <td>NaN</td>\n",
       "      <td>NaN</td>\n",
       "      <td>White and gold</td>\n",
       "      <td>NaN</td>\n",
       "      <td>Friday</td>\n",
       "      <td>NaN</td>\n",
       "      <td>1.0</td>\n",
       "      <td>NaN</td>\n",
       "      <td>NaN</td>\n",
       "      <td>(70, 10)</td>\n",
       "    </tr>\n",
       "  </tbody>\n",
       "</table>\n",
       "</div>"
      ],
      "text/plain": [
       "       inid going_out gender  age country     state grand_bar mary_janes  \\\n",
       "0  90258773       NaN    NaN  NaN     NaN       NaN       NaN        NaN   \n",
       "1  90272821        No   Male   44    USA         NM       MEH    DESPAIR   \n",
       "2  90272829       NaN   Male   49     USA  Virginia       NaN        NaN   \n",
       "3  90272840        No   Male   40      us        or       MEH    DESPAIR   \n",
       "4  90272841        No   Male   23     usa  exton pa       JOY    DESPAIR   \n",
       "\n",
       "  full_candy_bar black_jacks bonkers_candy bonkers_game bottle_caps  \\\n",
       "0            NaN         NaN           NaN          NaN         NaN   \n",
       "1            JOY         MEH       DESPAIR      DESPAIR     DESPAIR   \n",
       "2            NaN         NaN           NaN          NaN         NaN   \n",
       "3            JOY         MEH           MEH      DESPAIR         MEH   \n",
       "4            JOY     DESPAIR           MEH      DESPAIR         MEH   \n",
       "\n",
       "  box_o_raisins broken_glow_stick butterfinger cadbury_creme_eggs candy_corn  \\\n",
       "0           NaN               NaN          NaN                NaN        NaN   \n",
       "1       DESPAIR           DESPAIR      DESPAIR                MEH        MEH   \n",
       "2           NaN               NaN          NaN                NaN        NaN   \n",
       "3       DESPAIR           DESPAIR          MEH                MEH    DESPAIR   \n",
       "4       DESPAIR           DESPAIR          MEH                MEH    DESPAIR   \n",
       "\n",
       "  free_candy caramellos legal_tender_cash chardonnay chick_o_sticks chiclets  \\\n",
       "0        NaN        NaN               NaN        NaN            NaN      NaN   \n",
       "1    DESPAIR        MEH               JOY        MEH        DESPAIR  DESPAIR   \n",
       "2        NaN        NaN               NaN        NaN            NaN      NaN   \n",
       "3    DESPAIR        MEH               JOY        MEH            JOY      MEH   \n",
       "4    DESPAIR        JOY               MEH        JOY        DESPAIR  DESPAIR   \n",
       "\n",
       "  coffee_crisp creepy_tracts dental_paraphenalia dots dove_bars fuzzy_peaches  \\\n",
       "0          NaN           NaN                 NaN  NaN       NaN           NaN   \n",
       "1      DESPAIR       DESPAIR             DESPAIR  MEH       JOY       DESPAIR   \n",
       "2          NaN           NaN                 NaN  NaN       NaN           NaN   \n",
       "3      DESPAIR       DESPAIR             DESPAIR  JOY       JOY           MEH   \n",
       "4          MEH       DESPAIR             DESPAIR  MEH       JOY       DESPAIR   \n",
       "\n",
       "  acetaminophen glow_sticks goo_goo_clusters good_plenty baseball_cards_gum  \\\n",
       "0           NaN         NaN              NaN         NaN                NaN   \n",
       "1       DESPAIR     DESPAIR          DESPAIR         MEH            DESPAIR   \n",
       "2           NaN         NaN              NaN         NaN                NaN   \n",
       "3           MEH         JOY              JOY         MEH            DESPAIR   \n",
       "4       DESPAIR     DESPAIR              MEH         MEH            DESPAIR   \n",
       "\n",
       "  gummy_bears hard_candy healthy_fruit health_bar hershey_dark_chocolate  \\\n",
       "0         NaN        NaN           NaN        NaN                    NaN   \n",
       "1         MEH        MEH       DESPAIR        MEH                    JOY   \n",
       "2         NaN        NaN           NaN        NaN                    NaN   \n",
       "3         JOY        MEH           MEH    DESPAIR                    MEH   \n",
       "4         JOY        MEH       DESPAIR    DESPAIR                    JOY   \n",
       "\n",
       "  hershey_milk_chocolate hershey_kisses     hugs jolly_rancher_bad  \\\n",
       "0                    NaN            NaN      NaN               NaN   \n",
       "1                    JOY            MEH  DESPAIR           DESPAIR   \n",
       "2                    NaN            NaN      NaN               NaN   \n",
       "3                    MEH            MEH      MEH               MEH   \n",
       "4                    MEH            MEH  DESPAIR               MEH   \n",
       "\n",
       "  jolly_rancher_good  joy_joy joniour_mints senior_mints kale_smoothie  \\\n",
       "0                NaN      NaN           NaN          NaN           NaN   \n",
       "1                MEH  DESPAIR       DESPAIR      DESPAIR       DESPAIR   \n",
       "2                NaN      NaN           NaN          NaN           NaN   \n",
       "3                MEH  DESPAIR       DESPAIR      DESPAIR       DESPAIR   \n",
       "4                JOY      MEH           JOY      DESPAIR       DESPAIR   \n",
       "\n",
       "  kinder_happy_hippo kit_kat laffy_taffy lemon_heads licorice_nblack  \\\n",
       "0                NaN     NaN         NaN         NaN             NaN   \n",
       "1            DESPAIR     JOY     DESPAIR         MEH             MEH   \n",
       "2                NaN     NaN         NaN         NaN             NaN   \n",
       "3                MEH     MEH         JOY         JOY             MEH   \n",
       "4                JOY     JOY         JOY         JOY             MEH   \n",
       "\n",
       "  licorice_black lindt_truffle lollipops     mars maynards mike_and_ike  \\\n",
       "0            NaN           NaN       NaN      NaN      NaN          NaN   \n",
       "1            JOY           MEH   DESPAIR  DESPAIR  DESPAIR          MEH   \n",
       "2            NaN           NaN       NaN      NaN      NaN          NaN   \n",
       "3            JOY           JOY   DESPAIR      JOY      MEH          MEH   \n",
       "4        DESPAIR           JOY       MEH      MEH  DESPAIR          MEH   \n",
       "\n",
       "  milk_duds milky_way regular_mm peanut_mm blue_mm red_mm green_party_mm  \\\n",
       "0       NaN       NaN        NaN       NaN     NaN    NaN            NaN   \n",
       "1       MEH       JOY        JOY       MEH     JOY    JOY            JOY   \n",
       "2       NaN       NaN        NaN       NaN     NaN    NaN            NaN   \n",
       "3   DESPAIR       JOY        MEH       JOY     MEH    MEH            MEH   \n",
       "4       MEH       JOY        JOY       JOY     JOY    JOY            JOY   \n",
       "\n",
       "  independent_mm    no_mm minibags_chips mint_kisses mint_juleps mr_goodbar  \\\n",
       "0            NaN      NaN            NaN         NaN         NaN        NaN   \n",
       "1            JOY  DESPAIR        DESPAIR         MEH     DESPAIR    DESPAIR   \n",
       "2            NaN      NaN            NaN         NaN         NaN        NaN   \n",
       "3            MEH      MEH        DESPAIR     DESPAIR         MEH        MEH   \n",
       "4            JOY      MEH        DESPAIR         JOY         JOY        MEH   \n",
       "\n",
       "  necco_wafers    nerds nestle_crunch now_n_laters    peeps  pencils  \\\n",
       "0          NaN      NaN           NaN          NaN      NaN      NaN   \n",
       "1      DESPAIR  DESPAIR           JOY      DESPAIR  DESPAIR  DESPAIR   \n",
       "2          NaN      NaN           NaN          NaN      NaN      NaN   \n",
       "3      DESPAIR      MEH           MEH          MEH  DESPAIR  DESPAIR   \n",
       "4      DESPAIR      JOY           JOY          JOY      MEH  DESPAIR   \n",
       "\n",
       "  pixy_stix rhoocs_blueray reese_peanut_butter_cup reese_pieces  \\\n",
       "0       NaN            NaN                     NaN          NaN   \n",
       "1   DESPAIR        DESPAIR                     JOY          JOY   \n",
       "2       NaN            NaN                     NaN          NaN   \n",
       "3   DESPAIR        DESPAIR                     JOY          MEH   \n",
       "4       JOY        DESPAIR                     JOY          JOY   \n",
       "\n",
       "  reggie_jackson_bar rolos booberry_crunch skittles american_smarties  \\\n",
       "0                NaN   NaN             NaN      NaN               NaN   \n",
       "1            DESPAIR   JOY         DESPAIR  DESPAIR           DESPAIR   \n",
       "2                NaN   NaN             NaN      NaN               NaN   \n",
       "3                MEH   MEH         DESPAIR  DESPAIR           DESPAIR   \n",
       "4                MEH   JOY             NaN      JOY               JOY   \n",
       "\n",
       "  commonwelth_smarties snickers sourpatch_kids spotted_dick starburst  \\\n",
       "0                  NaN      NaN            NaN          NaN       NaN   \n",
       "1              DESPAIR      MEH        DESPAIR      DESPAIR       MEH   \n",
       "2                  NaN      NaN            NaN          NaN       NaN   \n",
       "3                  MEH      JOY            MEH      DESPAIR       MEH   \n",
       "4              DESPAIR      NaN            MEH      DESPAIR       JOY   \n",
       "\n",
       "  sweet_tarts swedish_fish sweetums    take5 tic_tacs  \\\n",
       "0         NaN          NaN      NaN      NaN      NaN   \n",
       "1     DESPAIR          MEH  DESPAIR  DESPAIR  DESPAIR   \n",
       "2         NaN          NaN      NaN      NaN      NaN   \n",
       "3         MEH          JOY      MEH      JOY      MEH   \n",
       "4         JOY          MEH  DESPAIR      MEH  DESPAIR   \n",
       "\n",
       "  marshmallow_circus_peanut three_musketeers tolberone_other trail_mix twix  \\\n",
       "0                       NaN              NaN             NaN       NaN  NaN   \n",
       "1                   DESPAIR              JOY             JOY   DESPAIR  JOY   \n",
       "2                       NaN              NaN             NaN       NaN  NaN   \n",
       "3                   DESPAIR          DESPAIR             JOY       MEH  JOY   \n",
       "4                   DESPAIR              JOY             JOY   DESPAIR  JOY   \n",
       "\n",
       "  fructose_corn_syrup  vicodin watchamacallit_bars white_bread  \\\n",
       "0                 NaN      NaN                 NaN         NaN   \n",
       "1             DESPAIR  DESPAIR             DESPAIR     DESPAIR   \n",
       "2                 NaN      NaN                 NaN         NaN   \n",
       "3             DESPAIR      JOY                 JOY     DESPAIR   \n",
       "4                 MEH      JOY                 JOY     DESPAIR   \n",
       "\n",
       "  whole_wheat_anything york_peppermint_patties  \\\n",
       "0                  NaN                     NaN   \n",
       "1              DESPAIR                 DESPAIR   \n",
       "2                  NaN                     NaN   \n",
       "3              DESPAIR                 DESPAIR   \n",
       "4              DESPAIR                     JOY   \n",
       "\n",
       "                                           other_joy other_despair  \\\n",
       "0                                                NaN           NaN   \n",
       "1                                             Mounds           NaN   \n",
       "2                                                NaN           NaN   \n",
       "3  Reese's crispy crunchy bars, 5th avenue bars, ...           NaN   \n",
       "4                                                NaN           NaN   \n",
       "\n",
       "                                      other_commemts           dress  \\\n",
       "0                                                NaN             NaN   \n",
       "1  Bottom line is Twix is really the only candy w...  White and gold   \n",
       "2                                                NaN             NaN   \n",
       "3                             Raisins can go to hell  White and gold   \n",
       "4                                                NaN  White and gold   \n",
       "\n",
       "  Unnamed: 113 day_prefer  media_dailydish  media_science  media_espn  \\\n",
       "0          NaN        NaN              NaN            NaN         NaN   \n",
       "1          NaN     Sunday              NaN            1.0         NaN   \n",
       "2          NaN        NaN              NaN            NaN         NaN   \n",
       "3          NaN     Sunday              NaN            1.0         NaN   \n",
       "4          NaN     Friday              NaN            1.0         NaN   \n",
       "\n",
       "   media_yahoo       x_y  \n",
       "0          NaN       NaN  \n",
       "1          NaN  (84, 25)  \n",
       "2          NaN       NaN  \n",
       "3          NaN  (75, 23)  \n",
       "4          NaN  (70, 10)  "
      ]
     },
     "execution_count": 13,
     "metadata": {},
     "output_type": "execute_result"
    }
   ],
   "source": [
    "df.head()"
   ]
  },
  {
   "cell_type": "markdown",
   "metadata": {},
   "source": [
    "# 3- write summary about what you get form the above functions\n",
    "> #### tips : this summary can be about : if there is any missing values , if there a wrong data type , if there a wrong range of values , ...."
   ]
  },
  {
   "cell_type": "code",
   "execution_count": null,
   "metadata": {},
   "outputs": [],
   "source": []
  },
  {
   "cell_type": "markdown",
   "metadata": {},
   "source": [
    "# cleaning"
   ]
  },
  {
   "cell_type": "markdown",
   "metadata": {},
   "source": [
    "### 4- drop all the useless columns and  rows with too much NaN , \n",
    "> tip : useless columns can be like `Internal ID`and can be also columns with too much NaN \n",
    "- rename columns for easy access"
   ]
  },
  {
   "cell_type": "code",
   "execution_count": 14,
   "metadata": {},
   "outputs": [],
   "source": [
    "df.drop(['Unnamed: 113', 'inid', 'media_yahoo', 'media_espn', 'media_dailydish'], axis=1, inplace=True);"
   ]
  },
  {
   "cell_type": "code",
   "execution_count": 15,
   "metadata": {},
   "outputs": [],
   "source": [
    "df.dropna(axis=0, how='all', inplace=True)"
   ]
  },
  {
   "cell_type": "code",
   "execution_count": 16,
   "metadata": {},
   "outputs": [
    {
     "data": {
      "text/plain": [
       "(2439, 115)"
      ]
     },
     "execution_count": 16,
     "metadata": {},
     "output_type": "execute_result"
    }
   ],
   "source": [
    "df.shape"
   ]
  },
  {
   "cell_type": "code",
   "execution_count": 17,
   "metadata": {
    "scrolled": true
   },
   "outputs": [],
   "source": [
    "df.dropna(axis=0, thresh=df.shape[1] * .1, inplace=True)"
   ]
  },
  {
   "cell_type": "code",
   "execution_count": 18,
   "metadata": {},
   "outputs": [
    {
     "data": {
      "text/plain": [
       "(1801, 115)"
      ]
     },
     "execution_count": 18,
     "metadata": {},
     "output_type": "execute_result"
    }
   ],
   "source": [
    "df.shape"
   ]
  },
  {
   "cell_type": "markdown",
   "metadata": {},
   "source": [
    "### 5 - clean `going out` column \n",
    "> tip : you should choose which best value to put in place of these NaNs ( mode, unknown,other ....etc)"
   ]
  },
  {
   "cell_type": "code",
   "execution_count": 19,
   "metadata": {},
   "outputs": [
    {
     "data": {
      "text/plain": [
       "1    No\n",
       "3    No\n",
       "4    No\n",
       "5    No\n",
       "7    No\n",
       "Name: going_out, dtype: object"
      ]
     },
     "execution_count": 19,
     "metadata": {},
     "output_type": "execute_result"
    }
   ],
   "source": [
    "df['going_out'].head()"
   ]
  },
  {
   "cell_type": "code",
   "execution_count": 20,
   "metadata": {},
   "outputs": [
    {
     "data": {
      "text/plain": [
       "63"
      ]
     },
     "execution_count": 20,
     "metadata": {},
     "output_type": "execute_result"
    }
   ],
   "source": [
    "df['going_out'].isnull().sum()"
   ]
  },
  {
   "cell_type": "code",
   "execution_count": 21,
   "metadata": {},
   "outputs": [
    {
     "data": {
      "text/plain": [
       "array(['No', 'Yes', nan], dtype=object)"
      ]
     },
     "execution_count": 21,
     "metadata": {},
     "output_type": "execute_result"
    }
   ],
   "source": [
    "df['going_out'].unique()"
   ]
  },
  {
   "cell_type": "code",
   "execution_count": 22,
   "metadata": {},
   "outputs": [
    {
     "data": {
      "text/plain": [
       "count     1738\n",
       "unique       2\n",
       "top         No\n",
       "freq      1500\n",
       "Name: going_out, dtype: object"
      ]
     },
     "execution_count": 22,
     "metadata": {},
     "output_type": "execute_result"
    }
   ],
   "source": [
    "df['going_out'].describe()"
   ]
  },
  {
   "cell_type": "code",
   "execution_count": 23,
   "metadata": {},
   "outputs": [],
   "source": [
    "df['going_out'] = df['going_out'].str.lower();"
   ]
  },
  {
   "cell_type": "code",
   "execution_count": 24,
   "metadata": {},
   "outputs": [
    {
     "data": {
      "text/plain": [
       "10.127659574468085"
      ]
     },
     "execution_count": 24,
     "metadata": {},
     "output_type": "execute_result"
    }
   ],
   "source": [
    "df.loc[df.going_out == 'yes', 'going_out'].count() / 2350 * 100"
   ]
  },
  {
   "cell_type": "code",
   "execution_count": 25,
   "metadata": {},
   "outputs": [
    {
     "data": {
      "text/plain": [
       "count     1801\n",
       "unique       2\n",
       "top         no\n",
       "freq      1554\n",
       "Name: going_out, dtype: object"
      ]
     },
     "execution_count": 25,
     "metadata": {},
     "output_type": "execute_result"
    }
   ],
   "source": [
    "df['going_out'].fillna(method='bfill').describe()"
   ]
  },
  {
   "cell_type": "code",
   "execution_count": 26,
   "metadata": {},
   "outputs": [
    {
     "data": {
      "text/plain": [
       "9.674796747967479"
      ]
     },
     "execution_count": 26,
     "metadata": {},
     "output_type": "execute_result"
    }
   ],
   "source": [
    "df['going_out'].fillna(method='bfill').loc[df.going_out == \"yes\"].count() / 2460 * 100"
   ]
  },
  {
   "cell_type": "code",
   "execution_count": 27,
   "metadata": {},
   "outputs": [],
   "source": [
    "df['going_out'].fillna(method='bfill', inplace=True);"
   ]
  },
  {
   "cell_type": "markdown",
   "metadata": {},
   "source": [
    "### 6 - clean ` gender` column \n",
    "> tip : you should choose which best value to put in place of these NaNs ( mode, unknown,other ....etc)"
   ]
  },
  {
   "cell_type": "code",
   "execution_count": 28,
   "metadata": {},
   "outputs": [
    {
     "data": {
      "text/plain": [
       "1    Male\n",
       "3    Male\n",
       "4    Male\n",
       "5    Male\n",
       "7    Male\n",
       "Name: gender, dtype: object"
      ]
     },
     "execution_count": 28,
     "metadata": {},
     "output_type": "execute_result"
    }
   ],
   "source": [
    "df['gender'].head()"
   ]
  },
  {
   "cell_type": "code",
   "execution_count": 29,
   "metadata": {},
   "outputs": [
    {
     "data": {
      "text/plain": [
       "array(['Male', 'Female', \"I'd rather not say\", 'Other', nan], dtype=object)"
      ]
     },
     "execution_count": 29,
     "metadata": {},
     "output_type": "execute_result"
    }
   ],
   "source": [
    "df['gender'].unique()"
   ]
  },
  {
   "cell_type": "code",
   "execution_count": 30,
   "metadata": {},
   "outputs": [
    {
     "data": {
      "text/plain": [
       "count     1791\n",
       "unique       4\n",
       "top       Male\n",
       "freq      1086\n",
       "Name: gender, dtype: object"
      ]
     },
     "execution_count": 30,
     "metadata": {},
     "output_type": "execute_result"
    }
   ],
   "source": [
    "df['gender'].describe()"
   ]
  },
  {
   "cell_type": "code",
   "execution_count": 31,
   "metadata": {},
   "outputs": [
    {
     "data": {
      "text/plain": [
       "10"
      ]
     },
     "execution_count": 31,
     "metadata": {},
     "output_type": "execute_result"
    }
   ],
   "source": [
    "df['gender'].isna().sum()"
   ]
  },
  {
   "cell_type": "code",
   "execution_count": 32,
   "metadata": {},
   "outputs": [
    {
     "data": {
      "text/plain": [
       "61"
      ]
     },
     "execution_count": 32,
     "metadata": {},
     "output_type": "execute_result"
    }
   ],
   "source": [
    "df.loc[df.gender == \"I'd rather not say\", 'gender'].count()"
   ]
  },
  {
   "cell_type": "code",
   "execution_count": 33,
   "metadata": {},
   "outputs": [
    {
     "data": {
      "text/plain": [
       "26"
      ]
     },
     "execution_count": 33,
     "metadata": {},
     "output_type": "execute_result"
    }
   ],
   "source": [
    "df.loc[df.gender == \"Other\", 'gender'].count()"
   ]
  },
  {
   "cell_type": "code",
   "execution_count": 34,
   "metadata": {},
   "outputs": [
    {
     "data": {
      "text/plain": [
       "count     1801\n",
       "unique       4\n",
       "top       Male\n",
       "freq      1090\n",
       "Name: gender, dtype: object"
      ]
     },
     "execution_count": 34,
     "metadata": {},
     "output_type": "execute_result"
    }
   ],
   "source": [
    "df['gender'].fillna(method='bfill').describe()"
   ]
  },
  {
   "cell_type": "code",
   "execution_count": 35,
   "metadata": {},
   "outputs": [
    {
     "data": {
      "image/png": "[encoded data removed]",
      "text/plain": [
       "<Figure size 1440x360 with 3 Axes>"
      ]
     },
     "metadata": {
      "needs_background": "light"
     },
     "output_type": "display_data"
    }
   ],
   "source": [
    "fig, axes = plt.subplots(nrows=1, ncols=3, figsize=(20,5))\n",
    "df['gender'].hist(ax=axes[0])\n",
    "df['gender'].fillna(method='bfill').hist(ax=axes[1])\n",
    "df['gender'].fillna('Other').hist(ax=axes[2])\n",
    "axes[0].set_title(\"Before\", fontsize=16)\n",
    "axes[1].set_title(\"After\", fontsize=16)\n",
    "axes[2].set_title(\"Other\", fontsize=16)\n",
    "plt.show()"
   ]
  },
  {
   "cell_type": "code",
   "execution_count": 36,
   "metadata": {},
   "outputs": [],
   "source": [
    "df['gender'].fillna(method='bfill', inplace=True)"
   ]
  },
  {
   "cell_type": "code",
   "execution_count": 37,
   "metadata": {},
   "outputs": [
    {
     "data": {
      "text/plain": [
       "2454    Female\n",
       "2455      Male\n",
       "2456    Female\n",
       "2457    Female\n",
       "2459    Female\n",
       "Name: gender, dtype: object"
      ]
     },
     "execution_count": 37,
     "metadata": {},
     "output_type": "execute_result"
    }
   ],
   "source": [
    "df['gender'].tail()"
   ]
  },
  {
   "cell_type": "markdown",
   "metadata": {},
   "source": [
    "### 7 - clean ` age` column \n",
    "> tip : note the type of age column , and NaN values\n",
    " - try to use `to_numeric` \n",
    " - tip : you should choose which best value to put in place of these NaNs ( mean, median, ....etc)"
   ]
  },
  {
   "cell_type": "code",
   "execution_count": 38,
   "metadata": {},
   "outputs": [
    {
     "data": {
      "text/plain": [
       "1     44\n",
       "3     40\n",
       "4     23\n",
       "5    NaN\n",
       "7     33\n",
       "Name: age, dtype: object"
      ]
     },
     "execution_count": 38,
     "metadata": {},
     "output_type": "execute_result"
    }
   ],
   "source": [
    "df['age'].head()"
   ]
  },
  {
   "cell_type": "code",
   "execution_count": 39,
   "metadata": {},
   "outputs": [
    {
     "data": {
      "text/plain": [
       "array(['44', '40', '23', nan, '33', '53', '56', '64', '43', '37', '59',\n",
       "       '48', '45', '49', '34', '35', '38', '58', '50', '47', '52', '63',\n",
       "       '65', '41', '31', '61', '46', '54', '62', '29', '42', '39', '36',\n",
       "       '32', '28', '69', '67', '30', '25', '22', '51', '70', '24', '27',\n",
       "       '18', '19', 'Old enough', '57', '66', '12', 'Many', '60', '55',\n",
       "       '?', '21', '11', 'no', '68', '20', '6', '10', '71', '90', '13',\n",
       "       '26', '45-55', '312', '72', '99', 'hahahahaha', '9', '88', '39.4',\n",
       "       '74', '102', 'older than dirt', '15', '8', '75', '17', 'Enough',\n",
       "       'See question 2', '24-50', '7', '14', 'Over 50', '76', '100',\n",
       "       '1000', '16', '46 Halloweens.', 'ancient', '77', 'OLD', 'old',\n",
       "       'MY NAME JEFF', '4', '73', '59 on the day after Halloween',\n",
       "       'old enough', 'I can remember when Java was a cool new language'],\n",
       "      dtype=object)"
      ]
     },
     "execution_count": 39,
     "metadata": {},
     "output_type": "execute_result"
    }
   ],
   "source": [
    "df['age'].unique()"
   ]
  },
  {
   "cell_type": "code",
   "execution_count": 40,
   "metadata": {},
   "outputs": [
    {
     "data": {
      "text/plain": [
       "35"
      ]
     },
     "execution_count": 40,
     "metadata": {},
     "output_type": "execute_result"
    }
   ],
   "source": [
    "df['age'].isna().sum()"
   ]
  },
  {
   "cell_type": "code",
   "execution_count": 90,
   "metadata": {},
   "outputs": [],
   "source": [
    "df.loc[df.age == '59 on the day after Halloween', 'age'] = 59"
   ]
  },
  {
   "cell_type": "code",
   "execution_count": 93,
   "metadata": {},
   "outputs": [],
   "source": [
    "df.loc[df.age == '46 Halloweens.', 'age'] = 46"
   ]
  },
  {
   "cell_type": "code",
   "execution_count": 94,
   "metadata": {},
   "outputs": [],
   "source": [
    "df.loc[df.age == 'Over 50', 'age'] = 55"
   ]
  },
  {
   "cell_type": "code",
   "execution_count": 92,
   "metadata": {},
   "outputs": [],
   "source": [
    "df.loc[df.age == '39.4', 'age'] = 39"
   ]
  },
  {
   "cell_type": "code",
   "execution_count": 99,
   "metadata": {},
   "outputs": [
    {
     "data": {
      "text/plain": [
       "5       NaN\n",
       "203     NaN\n",
       "247     NaN\n",
       "325     NaN\n",
       "347     NaN\n",
       "350     NaN\n",
       "352     NaN\n",
       "461     NaN\n",
       "466     NaN\n",
       "492     NaN\n",
       "564     NaN\n",
       "566     NaN\n",
       "601     NaN\n",
       "638     NaN\n",
       "697     NaN\n",
       "760     NaN\n",
       "767     NaN\n",
       "769     NaN\n",
       "783     NaN\n",
       "855     NaN\n",
       "902     NaN\n",
       "904     NaN\n",
       "1097    NaN\n",
       "1193    NaN\n",
       "1230    NaN\n",
       "1256    NaN\n",
       "1273    NaN\n",
       "1331    NaN\n",
       "1338    NaN\n",
       "1355    NaN\n",
       "1388    NaN\n",
       "1391    NaN\n",
       "1487    NaN\n",
       "1551    NaN\n",
       "1556    NaN\n",
       "1561    NaN\n",
       "1627    NaN\n",
       "1706    NaN\n",
       "1798    NaN\n",
       "1812    NaN\n",
       "1845    NaN\n",
       "1870    NaN\n",
       "1907    NaN\n",
       "1928    NaN\n",
       "2048    NaN\n",
       "2110    NaN\n",
       "2179    NaN\n",
       "2214    NaN\n",
       "2311    NaN\n",
       "2347    NaN\n",
       "2358    NaN\n",
       "2377    NaN\n",
       "2379    NaN\n",
       "2413    NaN\n",
       "2431    NaN\n",
       "Name: age, dtype: object"
      ]
     },
     "execution_count": 99,
     "metadata": {},
     "output_type": "execute_result"
    }
   ],
   "source": [
    "filteredAge = df.age.str.isnumeric()\n",
    "filteredAge.fillna(False, inplace=True) #good age\n",
    "\n",
    "# df.loc[~filteredAge, 'age'] = np.nan\n",
    "df.loc[~filteredAge, 'age']"
   ]
  },
  {
   "cell_type": "markdown",
   "metadata": {},
   "source": [
    "### 8 - clean ` country` column\n",
    "> tip : note that country column has country names with different writing ways \n",
    "  - use fuzzywuzzy to deal with this problem\n",
    "  - you should choose which best value to put in place of these NaNs ( mode, unknown,other ....etc)"
   ]
  },
  {
   "cell_type": "code",
   "execution_count": null,
   "metadata": {},
   "outputs": [],
   "source": []
  },
  {
   "cell_type": "markdown",
   "metadata": {},
   "source": [
    "### 9 - clean ` area` column\n",
    "> tip : area column has the same problem as country columns , but looking at all it's unique values may give us another way to deal with it rather than try to fix it"
   ]
  },
  {
   "cell_type": "code",
   "execution_count": null,
   "metadata": {},
   "outputs": [],
   "source": []
  },
  {
   "cell_type": "markdown",
   "metadata": {},
   "source": [
    "### 10 - clean ` Q6` columns\n",
    ">- tip : Q6 has all kinds of chocolate bars and questions with three distinct options to choose from (Joy, Meh, Despair).\n",
    "- so all the column that has Q6 is a candy name , so you should go through all these column and you should choose which best value to put in place of these NaNs ( mode, unknown,other ....etc)"
   ]
  },
  {
   "cell_type": "code",
   "execution_count": null,
   "metadata": {},
   "outputs": [],
   "source": []
  },
  {
   "cell_type": "markdown",
   "metadata": {},
   "source": [
    "### 11 - clean ` dress` column\n",
    ">tip : you should choose which best value to put in place of these NaNs ( mode, unknown,other ....etc)"
   ]
  },
  {
   "cell_type": "code",
   "execution_count": null,
   "metadata": {},
   "outputs": [],
   "source": []
  },
  {
   "cell_type": "markdown",
   "metadata": {},
   "source": [
    "### 12 - clean ` day` column\n",
    ">tip : you should choose which best value to put in place of these NaNs ( mode, unknown,other ....etc)"
   ]
  },
  {
   "cell_type": "code",
   "execution_count": null,
   "metadata": {},
   "outputs": [],
   "source": []
  },
  {
   "cell_type": "markdown",
   "metadata": {},
   "source": [
    "### 13 - check\n",
    "> after finish cleaning you should make sure your data is clean and that :\n",
    "- there is no wrong data type\n",
    "- there is no NaN values \n",
    "- all the column are cleaing and ready for the next step `EDA`"
   ]
  },
  {
   "cell_type": "markdown",
   "metadata": {},
   "source": [
    "### 14 - write a summary about all the cleaning steps "
   ]
  },
  {
   "cell_type": "raw",
   "metadata": {},
   "source": []
  }
 ],
 "metadata": {
  "kernelspec": {
   "display_name": "Python 3 (ipykernel)",
   "language": "python",
   "name": "python3"
  },
  "language_info": {
   "codemirror_mode": {
    "name": "ipython",
    "version": 3
   },
   "file_extension": ".py",
   "mimetype": "text/x-python",
   "name": "python",
   "nbconvert_exporter": "python",
   "pygments_lexer": "ipython3",
   "version": "3.9.1"
  }
 },
 "nbformat": 4,
 "nbformat_minor": 4
}
